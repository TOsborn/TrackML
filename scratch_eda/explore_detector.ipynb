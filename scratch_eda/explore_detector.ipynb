{
 "cells": [
  {
   "cell_type": "code",
   "execution_count": 2,
   "metadata": {},
   "outputs": [],
   "source": [
    "CHILDREN = 0\n",
    "WEIGHT = 1\n",
    "\n",
    "import sys\n",
    "\n",
    "import pandas as pd\n",
    "import numpy as np\n",
    "\n",
    "from matplotlib import pyplot as plt\n",
    "%matplotlib inline\n",
    "\n",
    "from importlib import reload\n",
    "\n",
    "trackml_path = '/home/ec2-user/SageMaker/TrackML'\n",
    "if trackml_path not in sys.path:\n",
    "    sys.path.append(trackml_path)\n",
    "    \n",
    "# from detector_grid import detector_grid\n",
    "# reload(detector_grid)"
   ]
  },
  {
   "cell_type": "code",
   "execution_count": 3,
   "metadata": {},
   "outputs": [
    {
     "name": "stdout",
     "output_type": "stream",
     "text": [
      "<class 'pandas.core.frame.DataFrame'>\n",
      "RangeIndex: 18728 entries, 0 to 18727\n",
      "Data columns (total 9 columns):\n",
      "volume_id    18728 non-null int64\n",
      "layer_id     18728 non-null int64\n",
      "module_id    18728 non-null int64\n",
      "cx           18728 non-null float64\n",
      "cy           18728 non-null float64\n",
      "cz           18728 non-null float64\n",
      "cR           18728 non-null float64\n",
      "ctheta       18728 non-null float64\n",
      "cphi         18728 non-null float64\n",
      "dtypes: float64(6), int64(3)\n",
      "memory usage: 1.3 MB\n",
      "None\n"
     ]
    },
    {
     "data": {
      "text/html": [
       "<div>\n",
       "<style scoped>\n",
       "    .dataframe tbody tr th:only-of-type {\n",
       "        vertical-align: middle;\n",
       "    }\n",
       "\n",
       "    .dataframe tbody tr th {\n",
       "        vertical-align: top;\n",
       "    }\n",
       "\n",
       "    .dataframe thead th {\n",
       "        text-align: right;\n",
       "    }\n",
       "</style>\n",
       "<table border=\"1\" class=\"dataframe\">\n",
       "  <thead>\n",
       "    <tr style=\"text-align: right;\">\n",
       "      <th></th>\n",
       "      <th>volume_id</th>\n",
       "      <th>layer_id</th>\n",
       "      <th>module_id</th>\n",
       "      <th>cx</th>\n",
       "      <th>cy</th>\n",
       "      <th>cz</th>\n",
       "      <th>cR</th>\n",
       "      <th>ctheta</th>\n",
       "      <th>cphi</th>\n",
       "    </tr>\n",
       "  </thead>\n",
       "  <tbody>\n",
       "    <tr>\n",
       "      <th>0</th>\n",
       "      <td>7</td>\n",
       "      <td>2</td>\n",
       "      <td>1</td>\n",
       "      <td>-65.7965</td>\n",
       "      <td>-5.17830</td>\n",
       "      <td>-1502.5</td>\n",
       "      <td>1503.948884</td>\n",
       "      <td>-1.649336</td>\n",
       "      <td>3.097694</td>\n",
       "    </tr>\n",
       "    <tr>\n",
       "      <th>1</th>\n",
       "      <td>7</td>\n",
       "      <td>2</td>\n",
       "      <td>2</td>\n",
       "      <td>-139.8510</td>\n",
       "      <td>-6.46568</td>\n",
       "      <td>-1502.0</td>\n",
       "      <td>1508.510559</td>\n",
       "      <td>-1.616996</td>\n",
       "      <td>3.048652</td>\n",
       "    </tr>\n",
       "    <tr>\n",
       "      <th>2</th>\n",
       "      <td>7</td>\n",
       "      <td>2</td>\n",
       "      <td>3</td>\n",
       "      <td>-138.6570</td>\n",
       "      <td>-19.34190</td>\n",
       "      <td>-1498.0</td>\n",
       "      <td>1504.527791</td>\n",
       "      <td>-1.709397</td>\n",
       "      <td>3.048406</td>\n",
       "    </tr>\n",
       "    <tr>\n",
       "      <th>3</th>\n",
       "      <td>7</td>\n",
       "      <td>2</td>\n",
       "      <td>4</td>\n",
       "      <td>-64.1764</td>\n",
       "      <td>-15.40740</td>\n",
       "      <td>-1498.0</td>\n",
       "      <td>1499.453233</td>\n",
       "      <td>-1.806416</td>\n",
       "      <td>3.097562</td>\n",
       "    </tr>\n",
       "    <tr>\n",
       "      <th>4</th>\n",
       "      <td>7</td>\n",
       "      <td>2</td>\n",
       "      <td>5</td>\n",
       "      <td>-136.2810</td>\n",
       "      <td>-32.05310</td>\n",
       "      <td>-1502.0</td>\n",
       "      <td>1508.510495</td>\n",
       "      <td>-1.801796</td>\n",
       "      <td>3.048652</td>\n",
       "    </tr>\n",
       "  </tbody>\n",
       "</table>\n",
       "</div>"
      ],
      "text/plain": [
       "   volume_id  layer_id  module_id        cx        cy      cz           cR  \\\n",
       "0          7         2          1  -65.7965  -5.17830 -1502.5  1503.948884   \n",
       "1          7         2          2 -139.8510  -6.46568 -1502.0  1508.510559   \n",
       "2          7         2          3 -138.6570 -19.34190 -1498.0  1504.527791   \n",
       "3          7         2          4  -64.1764 -15.40740 -1498.0  1499.453233   \n",
       "4          7         2          5 -136.2810 -32.05310 -1502.0  1508.510495   \n",
       "\n",
       "     ctheta      cphi  \n",
       "0 -1.649336  3.097694  \n",
       "1 -1.616996  3.048652  \n",
       "2 -1.709397  3.048406  \n",
       "3 -1.806416  3.097562  \n",
       "4 -1.801796  3.048652  "
      ]
     },
     "execution_count": 3,
     "metadata": {},
     "output_type": "execute_result"
    }
   ],
   "source": [
    "detector = pd.read_csv('/home/ec2-user/SageMaker/efs/codalab_dataset/detector.csv')\n",
    "detector = detector.loc[:, ['volume_id', 'layer_id', 'module_id', 'cx', 'cy', 'cz']]\n",
    "detector.loc[:, 'cR'] = np.sqrt(\n",
    "    detector.cx**2 +\n",
    "    detector.cy**2 +\n",
    "    detector.cz**2\n",
    ")\n",
    "detector.loc[:, 'ctheta'] = np.arctan2(detector.cx, detector.cy)\n",
    "detector.loc[:, 'cphi'] = np.arccos(detector.cz/detector.cR)\n",
    "print(detector.info())\n",
    "detector.head()"
   ]
  },
  {
   "cell_type": "code",
   "execution_count": 4,
   "metadata": {},
   "outputs": [
    {
     "name": "stdout",
     "output_type": "stream",
     "text": [
      "47.25526949012565 3101.990480061794\n",
      "-3.141592653589793 3.141592653589793\n",
      "0.04389853636220709 3.097694117227586\n"
     ]
    }
   ],
   "source": [
    "print(detector.cR.min(), detector.cR.max())\n",
    "print(detector.ctheta.min(), detector.ctheta.max())\n",
    "print(detector.cphi.min(), detector.cphi.max())"
   ]
  },
  {
   "cell_type": "code",
   "execution_count": 5,
   "metadata": {},
   "outputs": [
    {
     "data": {
      "text/plain": [
       "array([-3.14159265, -2.44346095, -1.74532925, -1.04719755, -0.34906585,\n",
       "        0.34906585,  1.04719755,  1.74532925,  2.44346095,  3.14159265])"
      ]
     },
     "execution_count": 5,
     "metadata": {},
     "output_type": "execute_result"
    }
   ],
   "source": [
    "np.linspace(-np.pi, np.pi, 10)"
   ]
  },
  {
   "cell_type": "code",
   "execution_count": 6,
   "metadata": {},
   "outputs": [
    {
     "data": {
      "text/plain": [
       "array([1.        , 1.19581317, 1.42996915, 1.70997595, 2.04481177,\n",
       "       2.44521285, 2.92401774, 3.49657893, 4.18125515, 5.        ])"
      ]
     },
     "execution_count": 6,
     "metadata": {},
     "output_type": "execute_result"
    }
   ],
   "source": [
    "np.geomspace(1, 5, 10)"
   ]
  },
  {
   "cell_type": "code",
   "execution_count": 8,
   "metadata": {},
   "outputs": [],
   "source": [
    "nbins_R = 10\n",
    "nbins_z = 10\n",
    "nbins_phi = 10\n",
    "\n",
    "R_min, R_max = 30., 1030.\n",
    "z_min, z_max = -2956., 2956.\n",
    "phi_min, phi_max = -np.pi, np.pi\n",
    "\n",
    "phi_grid = np.linspace(phi_min, phi_max, nbins_phi)\n",
    "\n",
    "# pos_z_grid = np.geomspace()"
   ]
  },
  {
   "cell_type": "code",
   "execution_count": 17,
   "metadata": {},
   "outputs": [
    {
     "data": {
      "text/plain": [
       "2"
      ]
     },
     "execution_count": 17,
     "metadata": {},
     "output_type": "execute_result"
    }
   ],
   "source": [
    "v = np.array([1., 2., 3.])\n",
    "v /= np.linalg.norm(v)\n",
    "v.argmax()"
   ]
  },
  {
   "cell_type": "code",
   "execution_count": 13,
   "metadata": {},
   "outputs": [
    {
     "ename": "TypeError",
     "evalue": "unhashable type: 'numpy.ndarray'",
     "output_type": "error",
     "traceback": [
      "\u001b[0;31m---------------------------------------------------------------------------\u001b[0m",
      "\u001b[0;31mTypeError\u001b[0m                                 Traceback (most recent call last)",
      "\u001b[0;32m<ipython-input-13-cde0d30f91d8>\u001b[0m in \u001b[0;36m<module>\u001b[0;34m()\u001b[0m\n\u001b[0;32m----> 1\u001b[0;31m \u001b[0md\u001b[0m \u001b[0;34m=\u001b[0m \u001b[0;34m{\u001b[0m\u001b[0mx\u001b[0m\u001b[0;34m:\u001b[0m \u001b[0;36m1\u001b[0m\u001b[0;34m}\u001b[0m\u001b[0;34m\u001b[0m\u001b[0m\n\u001b[0m",
      "\u001b[0;31mTypeError\u001b[0m: unhashable type: 'numpy.ndarray'"
     ]
    }
   ],
   "source": [
    "d = {x: 1}"
   ]
  },
  {
   "cell_type": "code",
   "execution_count": 18,
   "metadata": {},
   "outputs": [
    {
     "data": {
      "text/plain": [
       "array([0.26726124, 0.53452248, 0.80178373])"
      ]
     },
     "execution_count": 18,
     "metadata": {},
     "output_type": "execute_result"
    }
   ],
   "source": [
    "v"
   ]
  },
  {
   "cell_type": "code",
   "execution_count": 19,
   "metadata": {},
   "outputs": [
    {
     "data": {
      "text/plain": [
       "array([0.26726124, 0.53452248])"
      ]
     },
     "execution_count": 19,
     "metadata": {},
     "output_type": "execute_result"
    }
   ],
   "source": [
    "v[[0, 1]]"
   ]
  },
  {
   "cell_type": "code",
   "execution_count": 22,
   "metadata": {},
   "outputs": [
    {
     "data": {
      "text/plain": [
       "array([0.26726124, 0.53452248, 0.80178373, 0.26726124, 0.53452248,\n",
       "       0.80178373])"
      ]
     },
     "execution_count": 22,
     "metadata": {},
     "output_type": "execute_result"
    }
   ],
   "source": [
    "np.tile(v, 2)"
   ]
  },
  {
   "cell_type": "code",
   "execution_count": 30,
   "metadata": {},
   "outputs": [
    {
     "ename": "TypeError",
     "evalue": "tile() got an unexpected keyword argument 'axis'",
     "output_type": "error",
     "traceback": [
      "\u001b[0;31m---------------------------------------------------------------------------\u001b[0m",
      "\u001b[0;31mTypeError\u001b[0m                                 Traceback (most recent call last)",
      "\u001b[0;32m<ipython-input-30-4b9a7f6b1978>\u001b[0m in \u001b[0;36m<module>\u001b[0;34m()\u001b[0m\n\u001b[0;32m----> 1\u001b[0;31m \u001b[0mnp\u001b[0m\u001b[0;34m.\u001b[0m\u001b[0mtile\u001b[0m\u001b[0;34m(\u001b[0m\u001b[0mv\u001b[0m\u001b[0;34m,\u001b[0m \u001b[0;36m2\u001b[0m\u001b[0;34m,\u001b[0m \u001b[0maxis\u001b[0m\u001b[0;34m=\u001b[0m\u001b[0;36m1\u001b[0m\u001b[0;34m)\u001b[0m\u001b[0;34m\u001b[0m\u001b[0m\n\u001b[0m",
      "\u001b[0;31mTypeError\u001b[0m: tile() got an unexpected keyword argument 'axis'"
     ]
    }
   ],
   "source": [
    "np.tile(v, 2, axis=1)"
   ]
  },
  {
   "cell_type": "code",
   "execution_count": 32,
   "metadata": {},
   "outputs": [
    {
     "data": {
      "text/plain": [
       "array([-1.        , -0.93969262, -0.76604444, -0.5       , -0.17364818,\n",
       "        0.17364818,  0.5       ,  0.76604444,  0.93969262,  1.        ])"
      ]
     },
     "execution_count": 32,
     "metadata": {},
     "output_type": "execute_result"
    }
   ],
   "source": [
    "cos_grid = np.cos(np.linspace(-np.pi, 0, 10))\n",
    "cos_grid"
   ]
  },
  {
   "cell_type": "code",
   "execution_count": 34,
   "metadata": {},
   "outputs": [
    {
     "data": {
      "text/plain": [
       "array([6, 7])"
      ]
     },
     "execution_count": 34,
     "metadata": {},
     "output_type": "execute_result"
    }
   ],
   "source": [
    "np.digitize(v[[0, 1]], cos_grid)"
   ]
  },
  {
   "cell_type": "code",
   "execution_count": null,
   "metadata": {},
   "outputs": [],
   "source": []
  }
 ],
 "metadata": {
  "kernelspec": {
   "display_name": "conda_tensorflow_p36",
   "language": "python",
   "name": "conda_tensorflow_p36"
  },
  "language_info": {
   "codemirror_mode": {
    "name": "ipython",
    "version": 3
   },
   "file_extension": ".py",
   "mimetype": "text/x-python",
   "name": "python",
   "nbconvert_exporter": "python",
   "pygments_lexer": "ipython3",
   "version": "3.6.5"
  }
 },
 "nbformat": 4,
 "nbformat_minor": 2
}
