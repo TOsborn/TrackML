{
 "cells": [
  {
   "cell_type": "code",
   "execution_count": 24,
   "metadata": {},
   "outputs": [],
   "source": [
    "import sys\n",
    "import os\n",
    "from importlib import reload\n",
    "\n",
    "import numpy as np\n",
    "import pandas as pd\n",
    "\n",
    "import matplotlib.pyplot as plt\n",
    "import seaborn as sns\n",
    "\n",
    "trackml_path = '/home/ec2-user/SageMaker/TrackML'\n",
    "if trackml_path not in sys.path:\n",
    "    sys.path.append(trackml_path)\n",
    "    \n",
    "from detector_grid import detector_grid, boundary_creation\n",
    "reload(boundary_creation)\n",
    "\n",
    "hits_ids = [\n",
    "    int(fn[5:14]) for fn in os.listdir(\n",
    "        '/home/ec2-user/SageMaker/efs/codalab_dataset/train/'\n",
    "    )\n",
    "    if fn[15: 19] == 'hits'\n",
    "]\n",
    "\n",
    "# boundary_creation.write_boundaries_csv(hits_ids, [50, 100, 200, 500, 1000, 2000])\n"
   ]
  },
  {
   "cell_type": "code",
   "execution_count": 4,
   "metadata": {},
   "outputs": [
    {
     "data": {
      "text/plain": [
       "0.352486432"
      ]
     },
     "execution_count": 4,
     "metadata": {},
     "output_type": "execute_result"
    }
   ],
   "source": [
    "boundary_creation.prep_hits(hits_ids[:100]).memory_usage().sum() / 1E9"
   ]
  },
  {
   "cell_type": "code",
   "execution_count": 25,
   "metadata": {},
   "outputs": [
    {
     "name": "stdout",
     "output_type": "stream",
     "text": [
      "q 50\n",
      "R_bounds 51\n",
      "z_bounds 51\n",
      "theta_bounds 51\n",
      "\n",
      "q 100\n",
      "R_bounds 101\n",
      "z_bounds 101\n",
      "theta_bounds 101\n",
      "\n",
      "q 200\n",
      "R_bounds 201\n",
      "z_bounds 190\n",
      "theta_bounds 201\n",
      "\n",
      "q 500\n",
      "R_bounds 501\n",
      "z_bounds 395\n",
      "theta_bounds 501\n",
      "\n",
      "q 1000\n",
      "R_bounds 1001\n",
      "z_bounds 691\n",
      "theta_bounds 1001\n",
      "\n",
      "q 2000\n",
      "R_bounds 2001\n",
      "z_bounds 1223\n",
      "theta_bounds 2001\n",
      "\n"
     ]
    }
   ],
   "source": [
    "boundary_creation.write_boundaries_csv(hits_ids[:100], [50, 100, 200, 500, 1000, 2000])"
   ]
  },
  {
   "cell_type": "code",
   "execution_count": null,
   "metadata": {},
   "outputs": [],
   "source": []
  }
 ],
 "metadata": {
  "kernelspec": {
   "display_name": "conda_tensorflow_p36",
   "language": "python",
   "name": "conda_tensorflow_p36"
  },
  "language_info": {
   "codemirror_mode": {
    "name": "ipython",
    "version": 3
   },
   "file_extension": ".py",
   "mimetype": "text/x-python",
   "name": "python",
   "nbconvert_exporter": "python",
   "pygments_lexer": "ipython3",
   "version": "3.6.5"
  }
 },
 "nbformat": 4,
 "nbformat_minor": 2
}
