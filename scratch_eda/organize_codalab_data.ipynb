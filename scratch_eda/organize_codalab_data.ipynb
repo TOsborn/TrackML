{
 "cells": [
  {
   "cell_type": "code",
   "execution_count": 1,
   "metadata": {},
   "outputs": [],
   "source": [
    "import os"
   ]
  },
  {
   "cell_type": "code",
   "execution_count": 2,
   "metadata": {},
   "outputs": [],
   "source": [
    "codalab_path = '/home/ec2-user/SageMaker/efs/codalab_dataset/'\n",
    "\n",
    "gzdownloads = os.listdir(codalab_path + 'gzdownloads')\n",
    "downloads = os.listdir(codalab_path + 'downloads')"
   ]
  },
  {
   "cell_type": "code",
   "execution_count": 3,
   "metadata": {},
   "outputs": [
    {
     "name": "stdout",
     "output_type": "stream",
     "text": [
      "29575 5400\n"
     ]
    }
   ],
   "source": [
    "print(len(gzdownloads), len(downloads))"
   ]
  },
  {
   "cell_type": "code",
   "execution_count": 12,
   "metadata": {},
   "outputs": [],
   "source": [
    "deids = sorted(set([int(fn[5:14]) for fn in downloads]))\n",
    "gzdeids = sorted(set([int(fn[5:14]) for fn in gzdownloads]))"
   ]
  },
  {
   "cell_type": "code",
   "execution_count": 13,
   "metadata": {},
   "outputs": [
    {
     "data": {
      "text/plain": [
       "(21000, 22499, 22501, 29999)"
      ]
     },
     "execution_count": 13,
     "metadata": {},
     "output_type": "execute_result"
    }
   ],
   "source": [
    "deids[0], deids[-1], gzdeids[0], gzdeids[-1]"
   ]
  },
  {
   "cell_type": "code",
   "execution_count": 14,
   "metadata": {},
   "outputs": [
    {
     "data": {
      "text/plain": [
       "8745"
      ]
     },
     "execution_count": 14,
     "metadata": {},
     "output_type": "execute_result"
    }
   ],
   "source": [
    "len(deids) + len(gzdeids)"
   ]
  },
  {
   "cell_type": "code",
   "execution_count": 15,
   "metadata": {},
   "outputs": [
    {
     "data": {
      "text/plain": [
       "(1350, 7395)"
      ]
     },
     "execution_count": 15,
     "metadata": {},
     "output_type": "execute_result"
    }
   ],
   "source": [
    "len(deids), len(gzdeids)"
   ]
  },
  {
   "cell_type": "code",
   "execution_count": 18,
   "metadata": {},
   "outputs": [],
   "source": [
    "dset = set(deids)\n",
    "gzset = set(gzdeids)\n",
    "\n",
    "absent_d = []\n",
    "for i in range(21000, 22500):\n",
    "    if i not in dset:\n",
    "        absent_d.append(i)\n",
    "        \n",
    "absent_gz = []\n",
    "for i in range(22500, 30000):\n",
    "    if i not in gzset:\n",
    "        absent_gz.append(i)"
   ]
  },
  {
   "cell_type": "code",
   "execution_count": 28,
   "metadata": {},
   "outputs": [
    {
     "data": {
      "text/plain": [
       "[22500,\n",
       " 23000,\n",
       " 23001,\n",
       " 23002,\n",
       " 23003,\n",
       " 23004,\n",
       " 23005,\n",
       " 23006,\n",
       " 23007,\n",
       " 23008,\n",
       " 23009,\n",
       " 23010,\n",
       " 23011,\n",
       " 23012,\n",
       " 23013,\n",
       " 23014,\n",
       " 23015,\n",
       " 23016,\n",
       " 23017,\n",
       " 23018,\n",
       " 23019,\n",
       " 23020,\n",
       " 23021,\n",
       " 23022,\n",
       " 23023,\n",
       " 23024,\n",
       " 23025,\n",
       " 23026,\n",
       " 23027,\n",
       " 23028,\n",
       " 23029,\n",
       " 23030,\n",
       " 23031,\n",
       " 23032,\n",
       " 23033,\n",
       " 23034,\n",
       " 23035,\n",
       " 23036,\n",
       " 23037,\n",
       " 23038,\n",
       " 23039,\n",
       " 23040,\n",
       " 23041,\n",
       " 23042,\n",
       " 23043,\n",
       " 23044,\n",
       " 23045,\n",
       " 23046,\n",
       " 23047,\n",
       " 23048,\n",
       " 23049,\n",
       " 23050,\n",
       " 23051,\n",
       " 23052,\n",
       " 23053,\n",
       " 23054,\n",
       " 23055,\n",
       " 23056,\n",
       " 23057,\n",
       " 23058,\n",
       " 23059,\n",
       " 23060,\n",
       " 23061,\n",
       " 23062,\n",
       " 23063,\n",
       " 23064,\n",
       " 23065,\n",
       " 23066,\n",
       " 23067,\n",
       " 23068,\n",
       " 23069,\n",
       " 23070,\n",
       " 23071,\n",
       " 23072,\n",
       " 23073,\n",
       " 23074,\n",
       " 23075,\n",
       " 23076,\n",
       " 23077,\n",
       " 23078,\n",
       " 23079,\n",
       " 23080,\n",
       " 23081,\n",
       " 23082,\n",
       " 23083,\n",
       " 23084,\n",
       " 23085,\n",
       " 23086,\n",
       " 23087,\n",
       " 23088,\n",
       " 23089,\n",
       " 23090,\n",
       " 23091,\n",
       " 23092,\n",
       " 23093,\n",
       " 23094,\n",
       " 23095,\n",
       " 23096,\n",
       " 23097,\n",
       " 23098,\n",
       " 23099,\n",
       " 23158,\n",
       " 23159,\n",
       " 23160,\n",
       " 23450]"
      ]
     },
     "execution_count": 28,
     "metadata": {},
     "output_type": "execute_result"
    }
   ],
   "source": [
    "absent_gz"
   ]
  },
  {
   "cell_type": "code",
   "execution_count": 20,
   "metadata": {},
   "outputs": [
    {
     "data": {
      "text/plain": [
       "(150, 1000)"
      ]
     },
     "execution_count": 20,
     "metadata": {},
     "output_type": "execute_result"
    }
   ],
   "source": [
    "len(absent_d), absent_d[-1] - absent_d[0] + 1"
   ]
  },
  {
   "cell_type": "code",
   "execution_count": 26,
   "metadata": {},
   "outputs": [
    {
     "data": {
      "text/plain": [
       "[[21400, 21449], [21650, 21699], [22350, 22399]]"
      ]
     },
     "execution_count": 26,
     "metadata": {},
     "output_type": "execute_result"
    }
   ],
   "source": [
    "absent_intervals = [[absent_d[0]]]\n",
    "for i in range(1, len(absent_d)):\n",
    "    if absent_d[i] != absent_d[i-1] + 1:\n",
    "        absent_intervals[-1].append(absent_d[i-1])\n",
    "        absent_intervals.append([absent_d[i]])\n",
    "        \n",
    "absent_intervals[-1].append(absent_d[-1])\n",
    "absent_intervals"
   ]
  },
  {
   "cell_type": "code",
   "execution_count": 27,
   "metadata": {},
   "outputs": [
    {
     "data": {
      "text/plain": [
       "[[22500, 22500], [23000, 23099], [23158, 23160], [23450, 23450]]"
      ]
     },
     "execution_count": 27,
     "metadata": {},
     "output_type": "execute_result"
    }
   ],
   "source": [
    "gz_absent_intervals = [[absent_gz[0]]]\n",
    "for i in range(1, len(absent_gz)):\n",
    "    if absent_gz[i] != absent_gz[i-1] + 1:\n",
    "        gz_absent_intervals[-1].append(absent_gz[i-1])\n",
    "        gz_absent_intervals.append([absent_gz[i]])\n",
    "        \n",
    "gz_absent_intervals[-1].append(absent_gz[-1])\n",
    "gz_absent_intervals"
   ]
  },
  {
   "cell_type": "code",
   "execution_count": 32,
   "metadata": {},
   "outputs": [
    {
     "data": {
      "text/plain": [
       "[28800,\n",
       " 28801,\n",
       " 28802,\n",
       " 28803,\n",
       " 28804,\n",
       " 28805,\n",
       " 28806,\n",
       " 28807,\n",
       " 28808,\n",
       " 28809,\n",
       " 28810,\n",
       " 28811,\n",
       " 28812,\n",
       " 28813,\n",
       " 28814,\n",
       " 28815,\n",
       " 28816,\n",
       " 28817,\n",
       " 28818,\n",
       " 28819,\n",
       " 28820,\n",
       " 28821,\n",
       " 28822,\n",
       " 28823,\n",
       " 28824,\n",
       " 28825,\n",
       " 28826,\n",
       " 28827,\n",
       " 28828,\n",
       " 28829,\n",
       " 28830,\n",
       " 28831,\n",
       " 28832,\n",
       " 28833,\n",
       " 28834,\n",
       " 28835,\n",
       " 28836,\n",
       " 28837,\n",
       " 28838,\n",
       " 28839,\n",
       " 28840,\n",
       " 28841,\n",
       " 28842,\n",
       " 28843,\n",
       " 28844,\n",
       " 28845,\n",
       " 28846,\n",
       " 28847,\n",
       " 28848,\n",
       " 28849,\n",
       " 28850,\n",
       " 28851,\n",
       " 28852,\n",
       " 28853,\n",
       " 28854,\n",
       " 28855,\n",
       " 28856,\n",
       " 28857,\n",
       " 28858,\n",
       " 28859,\n",
       " 28860,\n",
       " 28861,\n",
       " 28862,\n",
       " 28863,\n",
       " 28864,\n",
       " 28865,\n",
       " 28866,\n",
       " 28867,\n",
       " 28868,\n",
       " 28869,\n",
       " 28870,\n",
       " 28871,\n",
       " 28872,\n",
       " 28873,\n",
       " 28874,\n",
       " 28875,\n",
       " 28876,\n",
       " 28877,\n",
       " 28878,\n",
       " 28879,\n",
       " 28880,\n",
       " 28881,\n",
       " 28882,\n",
       " 28883,\n",
       " 28884,\n",
       " 28885,\n",
       " 28886,\n",
       " 28887,\n",
       " 28888,\n",
       " 28889,\n",
       " 28890,\n",
       " 28891,\n",
       " 28892,\n",
       " 28893,\n",
       " 28894,\n",
       " 28895,\n",
       " 28896,\n",
       " 28897,\n",
       " 28898,\n",
       " 28899,\n",
       " 28900,\n",
       " 28901,\n",
       " 28902,\n",
       " 28903,\n",
       " 28904,\n",
       " 28905,\n",
       " 28906,\n",
       " 28907,\n",
       " 28908,\n",
       " 28909,\n",
       " 28910,\n",
       " 28911,\n",
       " 28912,\n",
       " 28913,\n",
       " 28914,\n",
       " 28915,\n",
       " 28916,\n",
       " 28917,\n",
       " 28918,\n",
       " 28919,\n",
       " 28920,\n",
       " 28921,\n",
       " 28922,\n",
       " 28923,\n",
       " 28924,\n",
       " 28925,\n",
       " 28926,\n",
       " 28927,\n",
       " 28928,\n",
       " 28929,\n",
       " 28930,\n",
       " 28931,\n",
       " 28932,\n",
       " 28933,\n",
       " 28934,\n",
       " 28935,\n",
       " 28936,\n",
       " 28937,\n",
       " 28938,\n",
       " 28939,\n",
       " 28940,\n",
       " 28941,\n",
       " 28942,\n",
       " 28943,\n",
       " 28944,\n",
       " 28945,\n",
       " 28946,\n",
       " 28947,\n",
       " 28948,\n",
       " 28949,\n",
       " 28950,\n",
       " 28951,\n",
       " 28952,\n",
       " 28953,\n",
       " 28954,\n",
       " 28955,\n",
       " 28956,\n",
       " 28957,\n",
       " 28958,\n",
       " 28959,\n",
       " 28960,\n",
       " 28961,\n",
       " 28962,\n",
       " 28963,\n",
       " 28964,\n",
       " 28965,\n",
       " 28966,\n",
       " 28967,\n",
       " 28968,\n",
       " 28969,\n",
       " 28970,\n",
       " 28971,\n",
       " 28972,\n",
       " 28973,\n",
       " 28974,\n",
       " 28975,\n",
       " 28976,\n",
       " 28977,\n",
       " 28978,\n",
       " 28979,\n",
       " 28980,\n",
       " 28981,\n",
       " 28982,\n",
       " 28983,\n",
       " 28984,\n",
       " 28985,\n",
       " 28986,\n",
       " 28987,\n",
       " 28988,\n",
       " 28989,\n",
       " 28990,\n",
       " 28991,\n",
       " 28992,\n",
       " 28993,\n",
       " 28994,\n",
       " 28995,\n",
       " 28996,\n",
       " 28997,\n",
       " 28998,\n",
       " 28999]"
      ]
     },
     "execution_count": 32,
     "metadata": {},
     "output_type": "execute_result"
    }
   ],
   "source": [
    "L = []\n",
    "for i in gzdeids:\n",
    "    if 28800 <= i < 29000:\n",
    "        L.append(i)\n",
    "        \n",
    "L"
   ]
  },
  {
   "cell_type": "code",
   "execution_count": null,
   "metadata": {},
   "outputs": [],
   "source": []
  }
 ],
 "metadata": {
  "kernelspec": {
   "display_name": "conda_tensorflow_p36",
   "language": "python",
   "name": "conda_tensorflow_p36"
  },
  "language_info": {
   "codemirror_mode": {
    "name": "ipython",
    "version": 3
   },
   "file_extension": ".py",
   "mimetype": "text/x-python",
   "name": "python",
   "nbconvert_exporter": "python",
   "pygments_lexer": "ipython3",
   "version": "3.6.5"
  }
 },
 "nbformat": 4,
 "nbformat_minor": 2
}
