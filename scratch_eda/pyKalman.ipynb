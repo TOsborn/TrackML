{
 "cells": [
  {
   "cell_type": "markdown",
   "metadata": {},
   "source": [
    "## pyKalman"
   ]
  },
  {
   "cell_type": "code",
   "execution_count": 2,
   "metadata": {},
   "outputs": [
    {
     "ename": "ModuleNotFoundError",
     "evalue": "No module named 'pykalman'",
     "output_type": "error",
     "traceback": [
      "\u001b[0;31m---------------------------------------------------------------------------\u001b[0m",
      "\u001b[0;31mModuleNotFoundError\u001b[0m                       Traceback (most recent call last)",
      "\u001b[0;32m<ipython-input-2-78f95e2a90b1>\u001b[0m in \u001b[0;36m<module>\u001b[0;34m()\u001b[0m\n\u001b[1;32m      1\u001b[0m \u001b[0;32mimport\u001b[0m \u001b[0mnumpy\u001b[0m \u001b[0;32mas\u001b[0m \u001b[0mnp\u001b[0m\u001b[0;34m\u001b[0m\u001b[0m\n\u001b[1;32m      2\u001b[0m \u001b[0;32mimport\u001b[0m \u001b[0mpylab\u001b[0m \u001b[0;32mas\u001b[0m \u001b[0mpl\u001b[0m\u001b[0;34m\u001b[0m\u001b[0m\n\u001b[0;32m----> 3\u001b[0;31m \u001b[0;32mfrom\u001b[0m \u001b[0mpykalman\u001b[0m \u001b[0;32mimport\u001b[0m \u001b[0mKalmanFilter\u001b[0m\u001b[0;34m\u001b[0m\u001b[0m\n\u001b[0m\u001b[1;32m      4\u001b[0m \u001b[0;32mfrom\u001b[0m \u001b[0mmerge_events\u001b[0m \u001b[0;32mimport\u001b[0m \u001b[0mmerge_event_dataframes\u001b[0m\u001b[0;34m\u001b[0m\u001b[0m\n\u001b[1;32m      5\u001b[0m \u001b[0;34m\u001b[0m\u001b[0m\n",
      "\u001b[0;31mModuleNotFoundError\u001b[0m: No module named 'pykalman'"
     ]
    }
   ],
   "source": [
    "import numpy as np\n",
    "import pylab as pl\n",
    "from pykalman import KalmanFilter\n",
    "from merge_events import merge_event_dataframes\n",
    "\n",
    "from pyspark.sql import SparkSession\n",
    "from pyspark.sql.functions import lit\n",
    "from pyspark.sql.functions import col\n",
    "from pyspark.sql.functions import abs, sqrt, udf\n",
    "from pyspark.ml.regression import LinearRegression\n",
    "\n",
    "\n",
    "__authors__ = ['Matt Strautmann']"
   ]
  },
  {
   "cell_type": "code",
   "execution_count": null,
   "metadata": {},
   "outputs": [],
   "source": [
    "spark = SparkSession.builder.appName(\"pyK\").getOrCreate()\n",
    "events_list = ['000001000','000001001']    \n",
    "event_df = merge_event_dataframes(spark, events_list)"
   ]
  },
  {
   "cell_type": "code",
   "execution_count": null,
   "metadata": {},
   "outputs": [],
   "source": [
    "\n",
    "# specify parameters\n",
    "random_state = np.random.RandomState(0)\n",
    "transition_matrix = [[1, 0.1], [0, 1]]\n",
    "transition_offset = [-0.1, 0.1]\n",
    "observation_matrix = np.eye(2) + random_state.randn(2, 2) * 0.1\n",
    "observation_offset = [1.0, -1.0]\n",
    "transition_covariance = np.eye(2)\n",
    "observation_covariance = np.eye(2) + random_state.randn(2, 2) * 0.1\n",
    "initial_state_mean = [5, -5]\n",
    "initial_state_covariance = [[1, 0.1], [-0.1, 1]]\n",
    "\n",
    "# sample from model\n",
    "kf = KalmanFilter(\n",
    "    transition_matrix, observation_matrix, transition_covariance,\n",
    "    observation_covariance, transition_offset, observation_offset,\n",
    "    initial_state_mean, initial_state_covariance,\n",
    "    random_state=random_state\n",
    ")\n",
    "xyz, txtytz = kf.sample(\n",
    "    n_timesteps=50,\n",
    "    initial_state=initial_state_mean\n",
    ")"
   ]
  },
  {
   "cell_type": "code",
   "execution_count": null,
   "metadata": {},
   "outputs": [],
   "source": [
    "# estimate state with filtering and smoothing\n",
    "filtered_state_estimates = kf.filter(observations)[0]\n",
    "smoothed_state_estimates = kf.smooth(observations)[0]\n",
    "print(smoothed_state_estimates)"
   ]
  },
  {
   "cell_type": "code",
   "execution_count": null,
   "metadata": {},
   "outputs": [],
   "source": [
    "# draw estimates\n",
    "pl.figure()\n",
    "lines_true = pl.plot(states, color='b')\n",
    "lines_filt = pl.plot(filtered_state_estimates, color='r')\n",
    "lines_smooth = pl.plot(smoothed_state_estimates, color='g')\n",
    "pl.legend((lines_true[0], lines_filt[0], lines_smooth[0]),\n",
    "          ('true', 'filt', 'smooth'),\n",
    "          loc='lower right'\n",
    ")\n",
    "pl.show()"
   ]
  }
 ],
 "metadata": {
  "kernelspec": {
   "display_name": "conda_tensorflow_p36",
   "language": "python",
   "name": "conda_tensorflow_p36"
  },
  "language_info": {
   "codemirror_mode": {
    "name": "ipython",
    "version": 3
   },
   "file_extension": ".py",
   "mimetype": "text/x-python",
   "name": "python",
   "nbconvert_exporter": "python",
   "pygments_lexer": "ipython3",
   "version": "3.6.4"
  }
 },
 "nbformat": 4,
 "nbformat_minor": 2
}
