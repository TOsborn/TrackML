{
 "cells": [
  {
   "cell_type": "code",
   "execution_count": 3,
   "metadata": {},
   "outputs": [],
   "source": [
    "CHILDREN = 0\n",
    "WEIGHT = 1\n",
    "\n",
    "import sys\n",
    "import pandas as pd\n",
    "from matplotlib import pyplot as plt\n",
    "%matplotlib inline\n",
    "\n",
    "from importlib import reload\n",
    "\n",
    "trackml_path = '/home/ec2-user/SageMaker/TrackML'\n",
    "if trackml_path not in sys.path:\n",
    "    sys.path.append(trackml_path)"
   ]
  },
  {
   "cell_type": "code",
   "execution_count": 4,
   "metadata": {},
   "outputs": [],
   "source": [
    "detector = pd.read_csv('/home/ec2-user/SageMaker/efs/codalab_dataset/detector.csv')"
   ]
  },
  {
   "cell_type": "code",
   "execution_count": 16,
   "metadata": {},
   "outputs": [
    {
     "name": "stdout",
     "output_type": "stream",
     "text": [
      "<class 'pandas.core.frame.DataFrame'>\n",
      "RangeIndex: 18728 entries, 0 to 18727\n",
      "Data columns (total 6 columns):\n",
      "volume_id    18728 non-null int64\n",
      "layer_id     18728 non-null int64\n",
      "module_id    18728 non-null int64\n",
      "cx           18728 non-null float64\n",
      "cy           18728 non-null float64\n",
      "cz           18728 non-null float64\n",
      "dtypes: float64(3), int64(3)\n",
      "memory usage: 878.0 KB\n",
      "None\n"
     ]
    },
    {
     "data": {
      "text/html": [
       "<div>\n",
       "<style scoped>\n",
       "    .dataframe tbody tr th:only-of-type {\n",
       "        vertical-align: middle;\n",
       "    }\n",
       "\n",
       "    .dataframe tbody tr th {\n",
       "        vertical-align: top;\n",
       "    }\n",
       "\n",
       "    .dataframe thead th {\n",
       "        text-align: right;\n",
       "    }\n",
       "</style>\n",
       "<table border=\"1\" class=\"dataframe\">\n",
       "  <thead>\n",
       "    <tr style=\"text-align: right;\">\n",
       "      <th></th>\n",
       "      <th>volume_id</th>\n",
       "      <th>layer_id</th>\n",
       "      <th>module_id</th>\n",
       "      <th>cx</th>\n",
       "      <th>cy</th>\n",
       "      <th>cz</th>\n",
       "    </tr>\n",
       "  </thead>\n",
       "  <tbody>\n",
       "    <tr>\n",
       "      <th>0</th>\n",
       "      <td>7</td>\n",
       "      <td>2</td>\n",
       "      <td>1</td>\n",
       "      <td>-65.7965</td>\n",
       "      <td>-5.17830</td>\n",
       "      <td>-1502.5</td>\n",
       "    </tr>\n",
       "    <tr>\n",
       "      <th>1</th>\n",
       "      <td>7</td>\n",
       "      <td>2</td>\n",
       "      <td>2</td>\n",
       "      <td>-139.8510</td>\n",
       "      <td>-6.46568</td>\n",
       "      <td>-1502.0</td>\n",
       "    </tr>\n",
       "    <tr>\n",
       "      <th>2</th>\n",
       "      <td>7</td>\n",
       "      <td>2</td>\n",
       "      <td>3</td>\n",
       "      <td>-138.6570</td>\n",
       "      <td>-19.34190</td>\n",
       "      <td>-1498.0</td>\n",
       "    </tr>\n",
       "    <tr>\n",
       "      <th>3</th>\n",
       "      <td>7</td>\n",
       "      <td>2</td>\n",
       "      <td>4</td>\n",
       "      <td>-64.1764</td>\n",
       "      <td>-15.40740</td>\n",
       "      <td>-1498.0</td>\n",
       "    </tr>\n",
       "    <tr>\n",
       "      <th>4</th>\n",
       "      <td>7</td>\n",
       "      <td>2</td>\n",
       "      <td>5</td>\n",
       "      <td>-136.2810</td>\n",
       "      <td>-32.05310</td>\n",
       "      <td>-1502.0</td>\n",
       "    </tr>\n",
       "  </tbody>\n",
       "</table>\n",
       "</div>"
      ],
      "text/plain": [
       "   volume_id  layer_id  module_id        cx        cy      cz\n",
       "0          7         2          1  -65.7965  -5.17830 -1502.5\n",
       "1          7         2          2 -139.8510  -6.46568 -1502.0\n",
       "2          7         2          3 -138.6570 -19.34190 -1498.0\n",
       "3          7         2          4  -64.1764 -15.40740 -1498.0\n",
       "4          7         2          5 -136.2810 -32.05310 -1502.0"
      ]
     },
     "execution_count": 16,
     "metadata": {},
     "output_type": "execute_result"
    }
   ],
   "source": [
    "detector = detector.loc[:, ['volume_id', 'layer_id', 'module_id', 'cx', 'cy', 'cz']]\n",
    "print(detector.info())\n",
    "detector.head()"
   ]
  },
  {
   "cell_type": "code",
   "execution_count": null,
   "metadata": {},
   "outputs": [],
   "source": [
    "M = 10**6"
   ]
  }
 ],
 "metadata": {
  "kernelspec": {
   "display_name": "conda_tensorflow_p36",
   "language": "python",
   "name": "conda_tensorflow_p36"
  },
  "language_info": {
   "codemirror_mode": {
    "name": "ipython",
    "version": 3
   },
   "file_extension": ".py",
   "mimetype": "text/x-python",
   "name": "python",
   "nbconvert_exporter": "python",
   "pygments_lexer": "ipython3",
   "version": "3.6.5"
  }
 },
 "nbformat": 4,
 "nbformat_minor": 2
}
